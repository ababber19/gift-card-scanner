{
 "cells": [
  {
   "cell_type": "code",
   "execution_count": 1,
   "id": "9a88e062",
   "metadata": {
    "_cell_guid": "b1076dfc-b9ad-4769-8c92-a6c4dae69d19",
    "_uuid": "8f2839f25d086af736a60e9eeb907d3b93b6e0e5",
    "execution": {
     "iopub.execute_input": "2022-02-05T20:08:17.148793Z",
     "iopub.status.busy": "2022-02-05T20:08:17.138312Z",
     "iopub.status.idle": "2022-02-05T20:08:17.152484Z",
     "shell.execute_reply": "2022-02-05T20:08:17.153018Z",
     "shell.execute_reply.started": "2022-01-13T22:01:32.145477Z"
    },
    "papermill": {
     "duration": 0.030917,
     "end_time": "2022-02-05T20:08:17.153262",
     "exception": false,
     "start_time": "2022-02-05T20:08:17.122345",
     "status": "completed"
    },
    "tags": []
   },
   "outputs": [],
   "source": [
    "import os\n",
    "\n",
    "import numpy as np\n",
    "import pandas as pd"
   ]
  },
  {
   "cell_type": "code",
   "execution_count": 2,
   "id": "d30d7216",
   "metadata": {
    "execution": {
     "iopub.execute_input": "2022-02-05T20:08:17.173042Z",
     "iopub.status.busy": "2022-02-05T20:08:17.172261Z",
     "iopub.status.idle": "2022-02-05T20:08:17.240977Z",
     "shell.execute_reply": "2022-02-05T20:08:17.240337Z",
     "shell.execute_reply.started": "2022-01-13T22:01:50.545182Z"
    },
    "papermill": {
     "duration": 0.080049,
     "end_time": "2022-02-05T20:08:17.241153",
     "exception": false,
     "start_time": "2022-02-05T20:08:17.161104",
     "status": "completed"
    },
    "tags": []
   },
   "outputs": [
    {
     "name": "stdout",
     "output_type": "stream",
     "text": [
      "total training cat images: 53\n",
      "total validation cat images: 429\n",
      "total test cat images: 54\n"
     ]
    }
   ],
   "source": [
    "print('total training cat images:', len(os.listdir(\"../input/hotstar-cards-partitioned/test\")))\n",
    "print('total validation cat images:', len(os.listdir(\"../input/hotstar-cards-partitioned/train\")))\n",
    "print('total test cat images:', len(os.listdir(\"../input/hotstar-cards-partitioned/validation\")))"
   ]
  },
  {
   "cell_type": "code",
   "execution_count": 3,
   "id": "c4c52beb",
   "metadata": {
    "execution": {
     "iopub.execute_input": "2022-02-05T20:08:17.257355Z",
     "iopub.status.busy": "2022-02-05T20:08:17.256586Z",
     "iopub.status.idle": "2022-02-05T20:08:17.267128Z",
     "shell.execute_reply": "2022-02-05T20:08:17.267542Z",
     "shell.execute_reply.started": "2022-01-13T22:02:23.753659Z"
    },
    "papermill": {
     "duration": 0.020025,
     "end_time": "2022-02-05T20:08:17.267661",
     "exception": false,
     "start_time": "2022-02-05T20:08:17.247636",
     "status": "completed"
    },
    "tags": []
   },
   "outputs": [],
   "source": [
    "df = pd.read_csv(\"../input/hotstar-cards-partitioned/cards_labels.csv\")"
   ]
  },
  {
   "cell_type": "code",
   "execution_count": 4,
   "id": "efe107f1",
   "metadata": {
    "execution": {
     "iopub.execute_input": "2022-02-05T20:08:17.288021Z",
     "iopub.status.busy": "2022-02-05T20:08:17.287528Z",
     "iopub.status.idle": "2022-02-05T20:08:17.298701Z",
     "shell.execute_reply": "2022-02-05T20:08:17.299109Z",
     "shell.execute_reply.started": "2022-01-13T22:02:25.94229Z"
    },
    "papermill": {
     "duration": 0.02594,
     "end_time": "2022-02-05T20:08:17.299237",
     "exception": false,
     "start_time": "2022-02-05T20:08:17.273297",
     "status": "completed"
    },
    "tags": []
   },
   "outputs": [
    {
     "data": {
      "text/html": [
       "<div>\n",
       "<style scoped>\n",
       "    .dataframe tbody tr th:only-of-type {\n",
       "        vertical-align: middle;\n",
       "    }\n",
       "\n",
       "    .dataframe tbody tr th {\n",
       "        vertical-align: top;\n",
       "    }\n",
       "\n",
       "    .dataframe thead th {\n",
       "        text-align: right;\n",
       "    }\n",
       "</style>\n",
       "<table border=\"1\" class=\"dataframe\">\n",
       "  <thead>\n",
       "    <tr style=\"text-align: right;\">\n",
       "      <th></th>\n",
       "      <th>Serial Number</th>\n",
       "      <th>Image Name</th>\n",
       "    </tr>\n",
       "  </thead>\n",
       "  <tbody>\n",
       "    <tr>\n",
       "      <th>0</th>\n",
       "      <td>200129164913001172</td>\n",
       "      <td>allPicturesCombined_IMG_6789.jpeg</td>\n",
       "    </tr>\n",
       "    <tr>\n",
       "      <th>1</th>\n",
       "      <td>200129164913000439</td>\n",
       "      <td>allPicturesCombined_IMG_6793.jpeg</td>\n",
       "    </tr>\n",
       "    <tr>\n",
       "      <th>2</th>\n",
       "      <td>200129164913000438</td>\n",
       "      <td>allPicturesCombined_IMG_6794.jpeg</td>\n",
       "    </tr>\n",
       "    <tr>\n",
       "      <th>3</th>\n",
       "      <td>200129164913000437</td>\n",
       "      <td>allPicturesCombined_IMG_6795.jpeg</td>\n",
       "    </tr>\n",
       "    <tr>\n",
       "      <th>4</th>\n",
       "      <td>200129164913000426</td>\n",
       "      <td>allPicturesCombined_IMG_6796.jpeg</td>\n",
       "    </tr>\n",
       "    <tr>\n",
       "      <th>...</th>\n",
       "      <td>...</td>\n",
       "      <td>...</td>\n",
       "    </tr>\n",
       "    <tr>\n",
       "      <th>531</th>\n",
       "      <td>200129164913000239</td>\n",
       "      <td>allPicturesCombined_IMG_7582.jpeg</td>\n",
       "    </tr>\n",
       "    <tr>\n",
       "      <th>532</th>\n",
       "      <td>200129164913000249</td>\n",
       "      <td>allPicturesCombined_IMG_7583.jpeg</td>\n",
       "    </tr>\n",
       "    <tr>\n",
       "      <th>533</th>\n",
       "      <td>200129164913000250</td>\n",
       "      <td>allPicturesCombined_IMG_7584.jpeg</td>\n",
       "    </tr>\n",
       "    <tr>\n",
       "      <th>534</th>\n",
       "      <td>200129164913001825</td>\n",
       "      <td>allPicturesCombined_IMG_7585.jpeg</td>\n",
       "    </tr>\n",
       "    <tr>\n",
       "      <th>535</th>\n",
       "      <td>200129164913001824</td>\n",
       "      <td>allPicturesCombined_IMG_7586.jpeg</td>\n",
       "    </tr>\n",
       "  </tbody>\n",
       "</table>\n",
       "<p>536 rows × 2 columns</p>\n",
       "</div>"
      ],
      "text/plain": [
       "          Serial Number                         Image Name\n",
       "0    200129164913001172  allPicturesCombined_IMG_6789.jpeg\n",
       "1    200129164913000439  allPicturesCombined_IMG_6793.jpeg\n",
       "2    200129164913000438  allPicturesCombined_IMG_6794.jpeg\n",
       "3    200129164913000437  allPicturesCombined_IMG_6795.jpeg\n",
       "4    200129164913000426  allPicturesCombined_IMG_6796.jpeg\n",
       "..                  ...                                ...\n",
       "531  200129164913000239  allPicturesCombined_IMG_7582.jpeg\n",
       "532  200129164913000249  allPicturesCombined_IMG_7583.jpeg\n",
       "533  200129164913000250  allPicturesCombined_IMG_7584.jpeg\n",
       "534  200129164913001825  allPicturesCombined_IMG_7585.jpeg\n",
       "535  200129164913001824  allPicturesCombined_IMG_7586.jpeg\n",
       "\n",
       "[536 rows x 2 columns]"
      ]
     },
     "execution_count": 4,
     "metadata": {},
     "output_type": "execute_result"
    }
   ],
   "source": [
    "df"
   ]
  },
  {
   "cell_type": "markdown",
   "id": "e7da154d",
   "metadata": {
    "papermill": {
     "duration": 0.005967,
     "end_time": "2022-02-05T20:08:17.311250",
     "exception": false,
     "start_time": "2022-02-05T20:08:17.305283",
     "status": "completed"
    },
    "tags": []
   },
   "source": [
    "## Building the Model"
   ]
  },
  {
   "cell_type": "code",
   "execution_count": 5,
   "id": "4f8cbf2b",
   "metadata": {
    "execution": {
     "iopub.execute_input": "2022-02-05T20:08:17.334185Z",
     "iopub.status.busy": "2022-02-05T20:08:17.332181Z",
     "iopub.status.idle": "2022-02-05T20:08:22.310178Z",
     "shell.execute_reply": "2022-02-05T20:08:22.310654Z",
     "shell.execute_reply.started": "2022-01-13T22:02:57.011326Z"
    },
    "papermill": {
     "duration": 4.991234,
     "end_time": "2022-02-05T20:08:22.310807",
     "exception": false,
     "start_time": "2022-02-05T20:08:17.319573",
     "status": "completed"
    },
    "tags": []
   },
   "outputs": [],
   "source": [
    "from tensorflow.keras import layers\n",
    "from tensorflow.keras import models"
   ]
  },
  {
   "cell_type": "code",
   "execution_count": 6,
   "id": "4b4bad42",
   "metadata": {
    "execution": {
     "iopub.execute_input": "2022-02-05T20:08:22.332679Z",
     "iopub.status.busy": "2022-02-05T20:08:22.331990Z",
     "iopub.status.idle": "2022-02-05T20:08:24.684792Z",
     "shell.execute_reply": "2022-02-05T20:08:24.685404Z"
    },
    "papermill": {
     "duration": 2.368122,
     "end_time": "2022-02-05T20:08:24.685582",
     "exception": false,
     "start_time": "2022-02-05T20:08:22.317460",
     "status": "completed"
    },
    "tags": []
   },
   "outputs": [
    {
     "name": "stdout",
     "output_type": "stream",
     "text": [
      "Model: \"sequential\"\n",
      "_________________________________________________________________\n",
      "Layer (type)                 Output Shape              Param #   \n",
      "=================================================================\n",
      "conv2d (Conv2D)              (None, 148, 148, 32)      896       \n",
      "_________________________________________________________________\n",
      "max_pooling2d (MaxPooling2D) (None, 74, 74, 32)        0         \n",
      "_________________________________________________________________\n",
      "conv2d_1 (Conv2D)            (None, 72, 72, 64)        18496     \n",
      "_________________________________________________________________\n",
      "max_pooling2d_1 (MaxPooling2 (None, 36, 36, 64)        0         \n",
      "_________________________________________________________________\n",
      "conv2d_2 (Conv2D)            (None, 34, 34, 128)       73856     \n",
      "_________________________________________________________________\n",
      "max_pooling2d_2 (MaxPooling2 (None, 17, 17, 128)       0         \n",
      "_________________________________________________________________\n",
      "conv2d_3 (Conv2D)            (None, 15, 15, 128)       147584    \n",
      "_________________________________________________________________\n",
      "max_pooling2d_3 (MaxPooling2 (None, 7, 7, 128)         0         \n",
      "_________________________________________________________________\n",
      "flatten (Flatten)            (None, 6272)              0         \n",
      "_________________________________________________________________\n",
      "dense (Dense)                (None, 512)               3211776   \n",
      "_________________________________________________________________\n",
      "dense_1 (Dense)              (None, 1)                 513       \n",
      "=================================================================\n",
      "Total params: 3,453,121\n",
      "Trainable params: 3,453,121\n",
      "Non-trainable params: 0\n",
      "_________________________________________________________________\n"
     ]
    },
    {
     "name": "stderr",
     "output_type": "stream",
     "text": [
      "2022-02-05 20:08:22.398787: I tensorflow/stream_executor/cuda/cuda_gpu_executor.cc:937] successful NUMA node read from SysFS had negative value (-1), but there must be at least one NUMA node, so returning NUMA node zero\n",
      "2022-02-05 20:08:22.488829: I tensorflow/stream_executor/cuda/cuda_gpu_executor.cc:937] successful NUMA node read from SysFS had negative value (-1), but there must be at least one NUMA node, so returning NUMA node zero\n",
      "2022-02-05 20:08:22.489510: I tensorflow/stream_executor/cuda/cuda_gpu_executor.cc:937] successful NUMA node read from SysFS had negative value (-1), but there must be at least one NUMA node, so returning NUMA node zero\n",
      "2022-02-05 20:08:22.490552: I tensorflow/core/platform/cpu_feature_guard.cc:142] This TensorFlow binary is optimized with oneAPI Deep Neural Network Library (oneDNN) to use the following CPU instructions in performance-critical operations:  AVX2 AVX512F FMA\n",
      "To enable them in other operations, rebuild TensorFlow with the appropriate compiler flags.\n",
      "2022-02-05 20:08:22.491251: I tensorflow/stream_executor/cuda/cuda_gpu_executor.cc:937] successful NUMA node read from SysFS had negative value (-1), but there must be at least one NUMA node, so returning NUMA node zero\n",
      "2022-02-05 20:08:22.491877: I tensorflow/stream_executor/cuda/cuda_gpu_executor.cc:937] successful NUMA node read from SysFS had negative value (-1), but there must be at least one NUMA node, so returning NUMA node zero\n",
      "2022-02-05 20:08:22.492534: I tensorflow/stream_executor/cuda/cuda_gpu_executor.cc:937] successful NUMA node read from SysFS had negative value (-1), but there must be at least one NUMA node, so returning NUMA node zero\n",
      "2022-02-05 20:08:24.268727: I tensorflow/stream_executor/cuda/cuda_gpu_executor.cc:937] successful NUMA node read from SysFS had negative value (-1), but there must be at least one NUMA node, so returning NUMA node zero\n",
      "2022-02-05 20:08:24.269556: I tensorflow/stream_executor/cuda/cuda_gpu_executor.cc:937] successful NUMA node read from SysFS had negative value (-1), but there must be at least one NUMA node, so returning NUMA node zero\n",
      "2022-02-05 20:08:24.270301: I tensorflow/stream_executor/cuda/cuda_gpu_executor.cc:937] successful NUMA node read from SysFS had negative value (-1), but there must be at least one NUMA node, so returning NUMA node zero\n",
      "2022-02-05 20:08:24.270865: I tensorflow/core/common_runtime/gpu/gpu_device.cc:1510] Created device /job:localhost/replica:0/task:0/device:GPU:0 with 15403 MB memory:  -> device: 0, name: Tesla P100-PCIE-16GB, pci bus id: 0000:00:04.0, compute capability: 6.0\n"
     ]
    }
   ],
   "source": [
    "from tensorflow.keras import optimizers\n",
    "\n",
    "model = models.Sequential() \n",
    "\n",
    "model.add(layers.Conv2D(32, (3, 3), activation='relu', input_shape=(150, 150, 3)))\n",
    "model.add(layers.MaxPooling2D((2, 2)))\n",
    "\n",
    "model.add(layers.Conv2D(64, (3, 3), activation='relu')) \n",
    "model.add(layers.MaxPooling2D((2, 2))) \n",
    "\n",
    "model.add(layers.Conv2D(128, (3, 3), activation='relu')) \n",
    "model.add(layers.MaxPooling2D((2, 2))) \n",
    "\n",
    "model.add(layers.Conv2D(128, (3, 3), activation='relu')) \n",
    "model.add(layers.MaxPooling2D((2, 2))) \n",
    "\n",
    "model.add(layers.Flatten())\n",
    "model.add(layers.Dense(512, activation='relu')) \n",
    "model.add(layers.Dense(1, activation='sigmoid'))\n",
    "\n",
    "model.compile(loss='binary_crossentropy', optimizer=optimizers.RMSprop(learning_rate=1e-4), metrics=['acc'])\n",
    "\n",
    "model.summary()"
   ]
  }
 ],
 "metadata": {
  "kernelspec": {
   "display_name": "Python 3",
   "language": "python",
   "name": "python3"
  },
  "language_info": {
   "codemirror_mode": {
    "name": "ipython",
    "version": 3
   },
   "file_extension": ".py",
   "mimetype": "text/x-python",
   "name": "python",
   "nbconvert_exporter": "python",
   "pygments_lexer": "ipython3",
   "version": "3.7.12"
  },
  "papermill": {
   "default_parameters": {},
   "duration": 18.28691,
   "end_time": "2022-02-05T20:08:27.408322",
   "environment_variables": {},
   "exception": null,
   "input_path": "__notebook__.ipynb",
   "output_path": "__notebook__.ipynb",
   "parameters": {},
   "start_time": "2022-02-05T20:08:09.121412",
   "version": "2.3.3"
  }
 },
 "nbformat": 4,
 "nbformat_minor": 5
}
